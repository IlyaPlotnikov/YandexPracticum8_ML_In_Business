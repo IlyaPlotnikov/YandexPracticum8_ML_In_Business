{
 "cells": [
  {
   "cell_type": "markdown",
   "metadata": {},
   "source": [
    "# Выбор локации для скважины"
   ]
  },
  {
   "cell_type": "markdown",
   "metadata": {},
   "source": [
    "Допустим, вы работаете в добывающей компании «ГлавРосГосНефть». Нужно решить, где бурить новую скважину.\n",
    "\n",
    "Вам предоставлены пробы нефти в трёх регионах: в каждом 10 000 месторождений, где измерили качество нефти и объём её запасов. Постройте модель машинного обучения, которая поможет определить регион, где добыча принесёт наибольшую прибыль. Проанализируйте возможную прибыль и риски техникой *Bootstrap.*\n",
    "\n",
    "Шаги для выбора локации:\n",
    "\n",
    "- В избранном регионе ищут месторождения, для каждого определяют значения признаков;\n",
    "- Строят модель и оценивают объём запасов;\n",
    "- Выбирают месторождения с самым высокими оценками значений. Количество месторождений зависит от бюджета компании и стоимости разработки одной скважины;\n",
    "- Прибыль равна суммарной прибыли отобранных месторождений."
   ]
  },
  {
   "cell_type": "markdown",
   "metadata": {},
   "source": [
    "## Загрузка и подготовка данных"
   ]
  },
  {
   "cell_type": "markdown",
   "metadata": {},
   "source": [
    "<div style=\"background: #B0E0E6; padding: 5px; border: 1px solid SteelBlue; border-radius: 5px;\">\n",
    "    <font color='4682B4'><u><b>КОММЕНТАРИЙ СТУДЕНТА</b></u></font>\n",
    "    <br />\n",
    "    <font color='4682B4'>Импортируем библиотеки</font>\n",
    "</div>"
   ]
  },
  {
   "cell_type": "code",
   "execution_count": 1,
   "metadata": {},
   "outputs": [],
   "source": [
    "import pandas as pd\n",
    "from sklearn.model_selection import train_test_split\n",
    "from sklearn.preprocessing import StandardScaler\n",
    "\n",
    "import numpy as np\n",
    "import warnings\n",
    "from sklearn.linear_model import LinearRegression \n",
    "from sklearn import tree\n",
    "from sklearn.metrics import accuracy_score\n",
    "from sklearn.metrics import mean_squared_error\n",
    "import matplotlib\n",
    "import matplotlib.pyplot as plt\n",
    "from sklearn.metrics import r2_score\n",
    "from scipy import stats\n",
    "\n",
    "from scipy import stats as st"
   ]
  },
  {
   "cell_type": "code",
   "execution_count": 2,
   "metadata": {},
   "outputs": [],
   "source": [
    "df1=pd.read_csv('/datasets/geo_data_0.csv')\n",
    "df2=pd.read_csv('/datasets/geo_data_1.csv')\n",
    "df3=pd.read_csv('/datasets/geo_data_2.csv')"
   ]
  },
  {
   "cell_type": "markdown",
   "metadata": {},
   "source": [
    "<div style=\"background: #B0E0E6; padding: 5px; border: 1px solid SteelBlue; border-radius: 5px;\">\n",
    "    <font color='4682B4'><u><b>КОММЕНТАРИЙ СТУДЕНТА</b></u></font>\n",
    "    <br />\n",
    "    <font color='4682B4'>Выводим датафреймы на экран</font>\n",
    "</div>"
   ]
  },
  {
   "cell_type": "code",
   "execution_count": 3,
   "metadata": {},
   "outputs": [
    {
     "data": {
      "text/html": [
       "<div>\n",
       "<style scoped>\n",
       "    .dataframe tbody tr th:only-of-type {\n",
       "        vertical-align: middle;\n",
       "    }\n",
       "\n",
       "    .dataframe tbody tr th {\n",
       "        vertical-align: top;\n",
       "    }\n",
       "\n",
       "    .dataframe thead th {\n",
       "        text-align: right;\n",
       "    }\n",
       "</style>\n",
       "<table border=\"1\" class=\"dataframe\">\n",
       "  <thead>\n",
       "    <tr style=\"text-align: right;\">\n",
       "      <th></th>\n",
       "      <th>id</th>\n",
       "      <th>f0</th>\n",
       "      <th>f1</th>\n",
       "      <th>f2</th>\n",
       "      <th>product</th>\n",
       "    </tr>\n",
       "  </thead>\n",
       "  <tbody>\n",
       "    <tr>\n",
       "      <th>0</th>\n",
       "      <td>txEyH</td>\n",
       "      <td>0.705745</td>\n",
       "      <td>-0.497823</td>\n",
       "      <td>1.221170</td>\n",
       "      <td>105.280062</td>\n",
       "    </tr>\n",
       "    <tr>\n",
       "      <th>1</th>\n",
       "      <td>2acmU</td>\n",
       "      <td>1.334711</td>\n",
       "      <td>-0.340164</td>\n",
       "      <td>4.365080</td>\n",
       "      <td>73.037750</td>\n",
       "    </tr>\n",
       "    <tr>\n",
       "      <th>2</th>\n",
       "      <td>409Wp</td>\n",
       "      <td>1.022732</td>\n",
       "      <td>0.151990</td>\n",
       "      <td>1.419926</td>\n",
       "      <td>85.265647</td>\n",
       "    </tr>\n",
       "    <tr>\n",
       "      <th>3</th>\n",
       "      <td>iJLyR</td>\n",
       "      <td>-0.032172</td>\n",
       "      <td>0.139033</td>\n",
       "      <td>2.978566</td>\n",
       "      <td>168.620776</td>\n",
       "    </tr>\n",
       "    <tr>\n",
       "      <th>4</th>\n",
       "      <td>Xdl7t</td>\n",
       "      <td>1.988431</td>\n",
       "      <td>0.155413</td>\n",
       "      <td>4.751769</td>\n",
       "      <td>154.036647</td>\n",
       "    </tr>\n",
       "  </tbody>\n",
       "</table>\n",
       "</div>"
      ],
      "text/plain": [
       "      id        f0        f1        f2     product\n",
       "0  txEyH  0.705745 -0.497823  1.221170  105.280062\n",
       "1  2acmU  1.334711 -0.340164  4.365080   73.037750\n",
       "2  409Wp  1.022732  0.151990  1.419926   85.265647\n",
       "3  iJLyR -0.032172  0.139033  2.978566  168.620776\n",
       "4  Xdl7t  1.988431  0.155413  4.751769  154.036647"
      ]
     },
     "execution_count": 3,
     "metadata": {},
     "output_type": "execute_result"
    }
   ],
   "source": [
    "df1.head()"
   ]
  },
  {
   "cell_type": "code",
   "execution_count": 4,
   "metadata": {},
   "outputs": [
    {
     "name": "stdout",
     "output_type": "stream",
     "text": [
      "<class 'pandas.core.frame.DataFrame'>\n",
      "RangeIndex: 100000 entries, 0 to 99999\n",
      "Data columns (total 5 columns):\n",
      " #   Column   Non-Null Count   Dtype  \n",
      "---  ------   --------------   -----  \n",
      " 0   id       100000 non-null  object \n",
      " 1   f0       100000 non-null  float64\n",
      " 2   f1       100000 non-null  float64\n",
      " 3   f2       100000 non-null  float64\n",
      " 4   product  100000 non-null  float64\n",
      "dtypes: float64(4), object(1)\n",
      "memory usage: 3.8+ MB\n"
     ]
    }
   ],
   "source": [
    "df1.info()"
   ]
  },
  {
   "cell_type": "markdown",
   "metadata": {},
   "source": [
    "<div style=\"background: #B0E0E6; padding: 5px; border: 1px solid SteelBlue; border-radius: 5px;\">\n",
    "    <font color='4682B4'><u><b>КОММЕНТАРИЙ СТУДЕНТА</b></u></font>\n",
    "    <br />\n",
    "    <font color='4682B4'>Удалим во всех трех датафреймах столбец id, т.к он не несет ценности с точки зрения обучения модели</font>\n",
    "</div>"
   ]
  },
  {
   "cell_type": "code",
   "execution_count": 5,
   "metadata": {},
   "outputs": [],
   "source": [
    "df1=df1.drop('id',axis=1)\n"
   ]
  },
  {
   "cell_type": "code",
   "execution_count": 6,
   "metadata": {},
   "outputs": [],
   "source": [
    "df2=df2.drop('id',axis=1)\n",
    "df3=df3.drop('id',axis=1)"
   ]
  },
  {
   "cell_type": "markdown",
   "metadata": {},
   "source": [
    "<div style=\"background: #B0E0E6; padding: 5px; border: 1px solid SteelBlue; border-radius: 5px;\">\n",
    "    <font color='4682B4'><u><b>КОММЕНТАРИЙ СТУДЕНТА</b></u></font>\n",
    "    <br />\n",
    "    <font color='4682B4'>Проверим распределение целевого признака во всех датафреймах</font>\n",
    "</div>"
   ]
  },
  {
   "cell_type": "code",
   "execution_count": 7,
   "metadata": {},
   "outputs": [
    {
     "data": {
      "text/plain": [
       "array([[<AxesSubplot:title={'center':'product'}>]], dtype=object)"
      ]
     },
     "execution_count": 7,
     "metadata": {},
     "output_type": "execute_result"
    },
    {
     "data": {
      "image/png": "[encoded data removed]",
      "text/plain": [
       "<Figure size 1080x360 with 1 Axes>"
      ]
     },
     "metadata": {
      "needs_background": "light"
     },
     "output_type": "display_data"
    }
   ],
   "source": [
    "df1.hist(['product'],bins=30,figsize=(15,5))"
   ]
  },
  {
   "cell_type": "code",
   "execution_count": 8,
   "metadata": {},
   "outputs": [
    {
     "data": {
      "text/plain": [
       "Boxplot(ax=<AxesSubplot:>, lines={'whiskers': [<matplotlib.lines.Line2D object at 0x7fe26720e340>, <matplotlib.lines.Line2D object at 0x7fe26720e6a0>], 'caps': [<matplotlib.lines.Line2D object at 0x7fe26720ea00>, <matplotlib.lines.Line2D object at 0x7fe26720ed60>], 'boxes': [<matplotlib.lines.Line2D object at 0x7fe2671f8fa0>], 'medians': [<matplotlib.lines.Line2D object at 0x7fe26721a100>], 'fliers': [<matplotlib.lines.Line2D object at 0x7fe26721a460>], 'means': []})"
      ]
     },
     "execution_count": 8,
     "metadata": {},
     "output_type": "execute_result"
    },
    {
     "data": {
      "image/png": "[encoded data removed]",
      "text/plain": [
       "<Figure size 432x288 with 1 Axes>"
      ]
     },
     "metadata": {
      "needs_background": "light"
     },
     "output_type": "display_data"
    }
   ],
   "source": [
    "df1['product'].plot.box(return_type='both')"
   ]
  },
  {
   "cell_type": "code",
   "execution_count": null,
   "metadata": {},
   "outputs": [],
   "source": []
  },
  {
   "cell_type": "code",
   "execution_count": 9,
   "metadata": {},
   "outputs": [
    {
     "data": {
      "text/plain": [
       "array([[<AxesSubplot:title={'center':'product'}>]], dtype=object)"
      ]
     },
     "execution_count": 9,
     "metadata": {},
     "output_type": "execute_result"
    },
    {
     "data": {
      "image/png": "[encoded data removed]",
      "text/plain": [
       "<Figure size 1080x360 with 1 Axes>"
      ]
     },
     "metadata": {
      "needs_background": "light"
     },
     "output_type": "display_data"
    }
   ],
   "source": [
    "df2.hist(['product'],figsize=(15,5))"
   ]
  },
  {
   "cell_type": "code",
   "execution_count": 10,
   "metadata": {},
   "outputs": [
    {
     "data": {
      "text/plain": [
       "Boxplot(ax=<AxesSubplot:>, lines={'whiskers': [<matplotlib.lines.Line2D object at 0x7fe2670ffd00>, <matplotlib.lines.Line2D object at 0x7fe26710c0a0>], 'caps': [<matplotlib.lines.Line2D object at 0x7fe26710c400>, <matplotlib.lines.Line2D object at 0x7fe26710c760>], 'boxes': [<matplotlib.lines.Line2D object at 0x7fe2670ff9a0>], 'medians': [<matplotlib.lines.Line2D object at 0x7fe26710cac0>], 'fliers': [<matplotlib.lines.Line2D object at 0x7fe26710ce20>], 'means': []})"
      ]
     },
     "execution_count": 10,
     "metadata": {},
     "output_type": "execute_result"
    },
    {
     "data": {
      "image/png": "[encoded data removed]",
      "text/plain": [
       "<Figure size 432x288 with 1 Axes>"
      ]
     },
     "metadata": {
      "needs_background": "light"
     },
     "output_type": "display_data"
    }
   ],
   "source": [
    "df2['product'].plot.box(return_type='both')"
   ]
  },
  {
   "cell_type": "code",
   "execution_count": 11,
   "metadata": {},
   "outputs": [
    {
     "data": {
      "text/plain": [
       "array([[<AxesSubplot:title={'center':'product'}>]], dtype=object)"
      ]
     },
     "execution_count": 11,
     "metadata": {},
     "output_type": "execute_result"
    },
    {
     "data": {
      "image/png": "[encoded data removed]",
      "text/plain": [
       "<Figure size 1080x360 with 1 Axes>"
      ]
     },
     "metadata": {
      "needs_background": "light"
     },
     "output_type": "display_data"
    }
   ],
   "source": [
    "df3.hist(['product'],figsize=(15,5))"
   ]
  },
  {
   "cell_type": "code",
   "execution_count": 12,
   "metadata": {},
   "outputs": [
    {
     "data": {
      "text/plain": [
       "Boxplot(ax=<AxesSubplot:>, lines={'whiskers': [<matplotlib.lines.Line2D object at 0x7fe2671338e0>, <matplotlib.lines.Line2D object at 0x7fe26714c850>], 'caps': [<matplotlib.lines.Line2D object at 0x7fe26715a0a0>, <matplotlib.lines.Line2D object at 0x7fe26715a9a0>], 'boxes': [<matplotlib.lines.Line2D object at 0x7fe267192700>], 'medians': [<matplotlib.lines.Line2D object at 0x7fe26715ac10>], 'fliers': [<matplotlib.lines.Line2D object at 0x7fe2671a5340>], 'means': []})"
      ]
     },
     "execution_count": 12,
     "metadata": {},
     "output_type": "execute_result"
    },
    {
     "data": {
      "image/png": "[encoded data removed]",
      "text/plain": [
       "<Figure size 432x288 with 1 Axes>"
      ]
     },
     "metadata": {
      "needs_background": "light"
     },
     "output_type": "display_data"
    }
   ],
   "source": [
    "df3['product'].plot.box(return_type='both')"
   ]
  },
  {
   "cell_type": "markdown",
   "metadata": {},
   "source": [
    "<div style=\"background: #B0E0E6; padding: 5px; border: 1px solid SteelBlue; border-radius: 5px;\">\n",
    "    <font color='4682B4'><u><b>КОММЕНТАРИЙ СТУДЕНТА</b></u></font>\n",
    "    <br />\n",
    "    <font color='4682B4'>Данные в пределах нормы, выбросов нет</font>\n",
    "</div>"
   ]
  },
  {
   "cell_type": "markdown",
   "metadata": {},
   "source": [
    "## Обучение и проверка модели"
   ]
  },
  {
   "cell_type": "markdown",
   "metadata": {},
   "source": [
    "<div style=\"background: #B0E0E6; padding: 5px; border: 1px solid SteelBlue; border-radius: 5px;\">\n",
    "    <font color='4682B4'><u><b>КОММЕНТАРИЙ СТУДЕНТА</b></u></font>\n",
    "    <br />\n",
    "    <font color='4682B4'>В какой-то момент стало ясно, что можно было бы написать одну большую функцию для трех датафреймов. На данный момент мне, к сожалению, не хватило опыта. В частности, непонятно, как дать Python понять, к какому именно датафрейму обращаюсь(к первому, второму, третьему)</font>\n",
    "</div>"
   ]
  },
  {
   "cell_type": "code",
   "execution_count": 13,
   "metadata": {},
   "outputs": [],
   "source": [
    "df1_target=df1['product']\n",
    "df1_features=df1.drop(['product'],axis=1)"
   ]
  },
  {
   "cell_type": "code",
   "execution_count": 14,
   "metadata": {},
   "outputs": [],
   "source": [
    "features_train_df1, features_valid_df1, target_train_df1, target_valid_df1 = train_test_split(df1_features, df1_target, \n",
    "                                                    train_size=0.75, \n",
    "                                                    random_state=12345)"
   ]
  },
  {
   "cell_type": "markdown",
   "metadata": {},
   "source": [
    "<div style=\"background: #B0E0E6; padding: 5px; border: 1px solid SteelBlue; border-radius: 5px;\">\n",
    "    <font color='4682B4'><u><b>КОММЕНТАРИЙ СТУДЕНТА</b></u></font>\n",
    "    <br />\n",
    "    <font color='4682B4'>Cтандартизирую данные с помощью StandardScaler</font>\n",
    "</div>"
   ]
  },
  {
   "cell_type": "code",
   "execution_count": 15,
   "metadata": {},
   "outputs": [],
   "source": [
    "scaler = StandardScaler()"
   ]
  },
  {
   "cell_type": "code",
   "execution_count": 16,
   "metadata": {},
   "outputs": [
    {
     "data": {
      "text/plain": [
       "StandardScaler()"
      ]
     },
     "execution_count": 16,
     "metadata": {},
     "output_type": "execute_result"
    }
   ],
   "source": [
    "scaler.fit(features_train_df1)"
   ]
  },
  {
   "cell_type": "code",
   "execution_count": 17,
   "metadata": {},
   "outputs": [],
   "source": [
    "features_train_df1 = pd.DataFrame(scaler.transform(features_train_df1), index=features_train_df1.index, columns=features_train_df1.columns)\n",
    "features_valid_df1 = pd.DataFrame(scaler.transform(features_valid_df1), index=features_valid_df1.index, columns=features_valid_df1.columns)"
   ]
  },
  {
   "cell_type": "code",
   "execution_count": 18,
   "metadata": {},
   "outputs": [
    {
     "data": {
      "text/plain": [
       "0.27994321524487786"
      ]
     },
     "execution_count": 18,
     "metadata": {},
     "output_type": "execute_result"
    }
   ],
   "source": [
    "model1 = LinearRegression() \n",
    "model1.fit(features_train_df1, target_train_df1) \n",
    "model1.score(features_valid_df1, target_valid_df1) "
   ]
  },
  {
   "cell_type": "markdown",
   "metadata": {},
   "source": [
    "<div style=\"background: #B0E0E6; padding: 5px; border: 1px solid SteelBlue; border-radius: 5px;\">\n",
    "    <font color='4682B4'><u><b>КОММЕНТАРИЙ СТУДЕНТА</b></u></font>\n",
    "    <br />\n",
    "    <font color='4682B4'>Наблюдаем очень низкую точность в 28%</font>\n",
    "</div>"
   ]
  },
  {
   "cell_type": "code",
   "execution_count": 19,
   "metadata": {},
   "outputs": [],
   "source": [
    "predictions_df1=model1.predict(features_valid_df1)"
   ]
  },
  {
   "cell_type": "code",
   "execution_count": 20,
   "metadata": {},
   "outputs": [
    {
     "data": {
      "text/plain": [
       "array([ 95.89495185,  77.57258261,  77.89263965, ...,  61.50983303,\n",
       "       118.18039721, 118.16939229])"
      ]
     },
     "execution_count": 20,
     "metadata": {},
     "output_type": "execute_result"
    }
   ],
   "source": [
    "predictions_df1"
   ]
  },
  {
   "cell_type": "code",
   "execution_count": 21,
   "metadata": {},
   "outputs": [
    {
     "name": "stdout",
     "output_type": "stream",
     "text": [
      "Средний запас предсказанного сырья 92.59256778438035\n",
      "RMSE модели: 1412.2129364399243\n",
      "R2 = 0.27994321524487786\n"
     ]
    }
   ],
   "source": [
    "print('Средний запас предсказанного сырья',predictions_df1.mean())\n",
    "print('RMSE модели:',mean_squared_error(target_valid_df1,predictions_df1))\n",
    "print(\"R2 =\", r2_score(target_valid_df1,predictions_df1))"
   ]
  },
  {
   "cell_type": "markdown",
   "metadata": {},
   "source": [
    "<div style=\"background: #B0E0E6; padding: 5px; border: 1px solid SteelBlue; border-radius: 5px;\">\n",
    "    <font color='4682B4'><u><b>КОММЕНТАРИЙ СТУДЕНТА</b></u></font>\n",
    "    <br />\n",
    "    <font color='4682B4'>RMSE достаточно большой, потому проверим дисперсию в исходных данных. Большой RMSE здесь не свидетельствует о плохой точности, поскольку значения целевого признака достаточно большие, а значит, и ошибка в абсолютном смысле тоже будет велика.</font>\n",
    "</div>"
   ]
  },
  {
   "cell_type": "code",
   "execution_count": 22,
   "metadata": {},
   "outputs": [
    {
     "name": "stdout",
     "output_type": "stream",
     "text": [
      "1961.4881626155964\n"
     ]
    }
   ],
   "source": [
    "dispersion=print(df1.var()['product'])"
   ]
  },
  {
   "cell_type": "markdown",
   "metadata": {},
   "source": [
    "Среднеквадратичная ошибка:"
   ]
  },
  {
   "cell_type": "code",
   "execution_count": 23,
   "metadata": {},
   "outputs": [
    {
     "name": "stdout",
     "output_type": "stream",
     "text": [
      "44.28317965096906\n"
     ]
    }
   ],
   "source": [
    "print(1961**0.5)"
   ]
  },
  {
   "cell_type": "code",
   "execution_count": 24,
   "metadata": {},
   "outputs": [
    {
     "data": {
      "text/plain": [
       "92.50000000000001"
      ]
     },
     "execution_count": 24,
     "metadata": {},
     "output_type": "execute_result"
    }
   ],
   "source": [
    "df1['product'].mean()"
   ]
  },
  {
   "cell_type": "markdown",
   "metadata": {},
   "source": [
    "\n",
    "<div style=\"background: #B0E0E6; padding: 5px; border: 1px solid SteelBlue; border-radius: 5px;\">\n",
    "    <font color='4682B4'><u><b>КОММЕНТАРИЙ СТУДЕНТА</b></u></font>\n",
    "    <br />\n",
    "    <font color='4682B4'>Среднеквадратическое отклонение=44,2, а математическое ожидание = 92,5. В целом, все данные находятся в пределах трех сигм(т.е правило трех сигм выполняется).</font>\n",
    "</div>"
   ]
  },
  {
   "cell_type": "markdown",
   "metadata": {},
   "source": [
    "\n",
    "<div style=\"background: #B0E0E6; padding: 5px; border: 1px solid SteelBlue; border-radius: 5px;\">\n",
    "    <font color='4682B4'><u><b>КОММЕНТАРИЙ СТУДЕНТА</b></u></font>\n",
    "    <br />\n",
    "    <font color='4682B4'>Проверим, является ли максимальное значение статистическим выбросом.Здесь применял тест Граббса</font>\n",
    "</div>"
   ]
  },
  {
   "cell_type": "code",
   "execution_count": 25,
   "metadata": {},
   "outputs": [],
   "source": [
    "def grubbs_stat(y):\n",
    "    std_dev = np.std(y)\n",
    "    avg_y = np.mean(y)\n",
    "    abs_val_minus_avg = abs(y - avg_y)\n",
    "    max_of_deviations = max(abs_val_minus_avg)\n",
    "    max_ind = np.argmax(abs_val_minus_avg)\n",
    "    Gcal = max_of_deviations / std_dev\n",
    "    print(f\"Значение статистики: {Gcal}\")\n",
    "    return Gcal, max_ind\n",
    "\n",
    "def calculate_critical_value(size, alpha):\n",
    "    t_dist = stats.t.ppf(1 - alpha / (2 * size), size - 2)\n",
    "    numerator = (size - 1) * np.sqrt(np.square(t_dist))\n",
    "    denominator = np.sqrt(size) * np.sqrt(size - 2 + np.square(t_dist))\n",
    "    critical_value = numerator / denominator\n",
    "    print(f\"Критическое значение: {critical_value}\")\n",
    "    return critical_value\n",
    "\n",
    "def check_G_values(Gs, Gc, inp, max_index):\n",
    "    if Gs > Gc:\n",
    "        print(f\"{inp[max_index]} является выбросом\")\n",
    "    else:\n",
    "        print(f\"{inp[max_index]} не является выбросом\")"
   ]
  },
  {
   "cell_type": "code",
   "execution_count": 26,
   "metadata": {},
   "outputs": [
    {
     "name": "stdout",
     "output_type": "stream",
     "text": [
      "Критическое значение: 5.0260079503784905\n",
      "Значение статистики: 2.0968064163503355\n",
      "185.3643474222929 не является выбросом\n"
     ]
    }
   ],
   "source": [
    "Gcritical = calculate_critical_value(len(df1['product']), 0.05)\n",
    "Gstat, max_index = grubbs_stat(df1['product'])\n",
    "check_G_values(Gstat, Gcritical, df1['product'], max_index)\n"
   ]
  },
  {
   "cell_type": "markdown",
   "metadata": {},
   "source": [
    "Второй регион"
   ]
  },
  {
   "cell_type": "code",
   "execution_count": 27,
   "metadata": {},
   "outputs": [],
   "source": [
    "df2_target=df2['product']\n",
    "df2_features=df2.drop(['product'],axis=1)\n",
    "features_train_df2, features_valid_df2, target_train_df2, target_valid_df2 = train_test_split(df2_features, df2_target, \n",
    "                                                    train_size=0.75, \n",
    "                                                    random_state=12345)"
   ]
  },
  {
   "cell_type": "code",
   "execution_count": 28,
   "metadata": {},
   "outputs": [
    {
     "data": {
      "text/plain": [
       "0.9996233978805127"
      ]
     },
     "execution_count": 28,
     "metadata": {},
     "output_type": "execute_result"
    }
   ],
   "source": [
    "model2 = LinearRegression() \n",
    "model2.fit(features_train_df2, target_train_df2) \n",
    "model2.score(features_valid_df2, target_valid_df2) "
   ]
  },
  {
   "cell_type": "code",
   "execution_count": 29,
   "metadata": {},
   "outputs": [],
   "source": [
    "predictions_df2=model2.predict(features_valid_df2)"
   ]
  },
  {
   "cell_type": "code",
   "execution_count": 30,
   "metadata": {},
   "outputs": [
    {
     "name": "stdout",
     "output_type": "stream",
     "text": [
      "Средний запас предсказанного сырья 68.728546895446\n",
      "RMSE модели: 0.7976263360391157\n",
      "R2 = 0.9996233978805127\n"
     ]
    }
   ],
   "source": [
    "print('Средний запас предсказанного сырья',predictions_df2.mean())\n",
    "print('RMSE модели:',mean_squared_error(target_valid_df2,predictions_df2))\n",
    "print(\"R2 =\", r2_score(target_valid_df2,predictions_df2))"
   ]
  },
  {
   "cell_type": "markdown",
   "metadata": {},
   "source": [
    "Третий регион"
   ]
  },
  {
   "cell_type": "code",
   "execution_count": 31,
   "metadata": {},
   "outputs": [],
   "source": [
    "df3_target=df3['product']\n",
    "df3_features=df3.drop(['product'],axis=1)\n",
    "features_train_df3, features_valid_df3, target_train_df3, target_valid_df3 = train_test_split(df3_features, df3_target, \n",
    "                                                    train_size=0.75, \n",
    "                                                    random_state=12345)"
   ]
  },
  {
   "cell_type": "code",
   "execution_count": 32,
   "metadata": {},
   "outputs": [
    {
     "data": {
      "text/plain": [
       "0.20524758386040443"
      ]
     },
     "execution_count": 32,
     "metadata": {},
     "output_type": "execute_result"
    }
   ],
   "source": [
    "model3 = LinearRegression() \n",
    "model3.fit(features_train_df3, target_train_df3) \n",
    "model3.score(features_valid_df3, target_valid_df3) "
   ]
  },
  {
   "cell_type": "code",
   "execution_count": 33,
   "metadata": {},
   "outputs": [],
   "source": [
    "predictions_df3=model3.predict(features_valid_df3)"
   ]
  },
  {
   "cell_type": "code",
   "execution_count": 34,
   "metadata": {},
   "outputs": [
    {
     "name": "stdout",
     "output_type": "stream",
     "text": [
      "Средний запас предсказанного сырья 94.96504596800489\n",
      "RMSE модели: 1602.3775813236196\n",
      "R2 = 0.20524758386040443\n"
     ]
    }
   ],
   "source": [
    "print('Средний запас предсказанного сырья',predictions_df3.mean())\n",
    "print('RMSE модели:',mean_squared_error(target_valid_df3,predictions_df3))\n",
    "print(\"R2 =\", r2_score(target_valid_df3,predictions_df3))"
   ]
  },
  {
   "cell_type": "markdown",
   "metadata": {},
   "source": [
    "## Подготовка к расчёту прибыли"
   ]
  },
  {
   "cell_type": "markdown",
   "metadata": {},
   "source": [
    "Все ключевые значения"
   ]
  },
  {
   "cell_type": "code",
   "execution_count": 35,
   "metadata": {},
   "outputs": [],
   "source": [
    "budget =10000000000\n",
    "explore=500\n",
    "develop=200\n",
    "revenue=450000"
   ]
  },
  {
   "cell_type": "markdown",
   "metadata": {},
   "source": [
    "\n",
    "<div style=\"background: #B0E0E6; padding: 5px; border: 1px solid SteelBlue; border-radius: 5px;\">\n",
    "    <font color='4682B4'><u><b>КОММЕНТАРИЙ СТУДЕНТА</b></u></font>\n",
    "    <br />\n",
    "    <font color='4682B4'>Рассчитаем достаточный объём сырья для безубыточной разработки новой скважины. Сравним полученный объём сырья со средним запасом в каждом регионе.</font>\n",
    "</div>"
   ]
  },
  {
   "cell_type": "markdown",
   "metadata": {},
   "source": [
    "<div class=\"alert alert-block alert-info\">\n",
    "\n",
    "<b>Совет: </b> В названиях константных переменных лучше использовать только БОЛЬШИЕ буквы. Это соглашение между программистами: https://pythonworld.ru/osnovy/pep-8-rukovodstvo-po-napisaniyu-koda-na-python.html#id29 .\n",
    "</div>"
   ]
  },
  {
   "cell_type": "code",
   "execution_count": 36,
   "metadata": {},
   "outputs": [],
   "source": [
    "threshold=budget/(develop*revenue)"
   ]
  },
  {
   "cell_type": "code",
   "execution_count": 37,
   "metadata": {},
   "outputs": [
    {
     "data": {
      "text/plain": [
       "111.11111111111111"
      ]
     },
     "execution_count": 37,
     "metadata": {},
     "output_type": "execute_result"
    }
   ],
   "source": [
    "threshold"
   ]
  },
  {
   "cell_type": "code",
   "execution_count": 38,
   "metadata": {},
   "outputs": [
    {
     "name": "stdout",
     "output_type": "stream",
     "text": [
      "Отношение средней добычи сырья первого региона к порогу получения прибыли: 0.8325000000000001\n"
     ]
    }
   ],
   "source": [
    "print('Отношение средней добычи сырья первого региона к порогу получения прибыли:', df1['product'].mean()/threshold)"
   ]
  },
  {
   "cell_type": "code",
   "execution_count": 39,
   "metadata": {},
   "outputs": [
    {
     "name": "stdout",
     "output_type": "stream",
     "text": [
      "Отношение средней добычи сырья второго региона к порогу получения прибыли: 0.6194250000000001\n"
     ]
    }
   ],
   "source": [
    "print('Отношение средней добычи сырья второго региона к порогу получения прибыли:', df2['product'].mean()/threshold)"
   ]
  },
  {
   "cell_type": "code",
   "execution_count": 40,
   "metadata": {},
   "outputs": [
    {
     "name": "stdout",
     "output_type": "stream",
     "text": [
      "Отношение средней добычи сырья третьего региона к порогу получения прибыли: 0.8550000000000003\n"
     ]
    }
   ],
   "source": [
    "print('Отношение средней добычи сырья третьего региона к порогу получения прибыли:', df3['product'].mean()/threshold)"
   ]
  },
  {
   "cell_type": "markdown",
   "metadata": {},
   "source": [
    "<div style=\"background: #B0E0E6; padding: 5px; border: 1px solid SteelBlue; border-radius: 5px;\">\n",
    "    <font color='4682B4'><u><b>КОММЕНТАРИЙ СТУДЕНТА</b></u></font>\n",
    "    <br />\n",
    "    <font color='4682B4'>Вывод: Во всех трех регионах отношение составляет меньше 1, а значит, что для получение прибыли нужно искать богатые месторождения с добычей выше среднего. В противном случае, разработка уйдет в минус.</font>\n",
    "</div>\n"
   ]
  },
  {
   "cell_type": "markdown",
   "metadata": {},
   "source": [
    "## Расчёт прибыли и рисков "
   ]
  },
  {
   "cell_type": "markdown",
   "metadata": {},
   "source": [
    "<div style=\"background: #B0E0E6; padding: 5px; border: 1px solid SteelBlue; border-radius: 5px;\">\n",
    "    <font color='4682B4'><u><b>КОММЕНТАРИЙ СТУДЕНТА</b></u></font>\n",
    "    <br />\n",
    "    <font color='4682B4'>Напишем функцию для подсчета прибыли.</font>\n",
    "</div>\n"
   ]
  },
  {
   "cell_type": "code",
   "execution_count": 41,
   "metadata": {},
   "outputs": [],
   "source": [
    "def calculate_profit(target, predictions, to_chose):\n",
    "    sorted_predictions = predictions.sort_values(ascending=False)\n",
    "    \n",
    "    cash = target[sorted_predictions.index][:to_chose].sum()\n",
    "    \n",
    "    return revenue * cash - budget\n"
   ]
  },
  {
   "cell_type": "markdown",
   "metadata": {},
   "source": [
    "Риски и прибыль для первого региона"
   ]
  },
  {
   "cell_type": "markdown",
   "metadata": {},
   "source": [
    "<div class=\"alert alert-block alert-success\">\n",
    "<b>Успех:</b> Верно.\n",
    "</div>"
   ]
  },
  {
   "cell_type": "markdown",
   "metadata": {},
   "source": [
    "<div style=\"background: #B0E0E6; padding: 5px; border: 1px solid SteelBlue; border-radius: 5px;\">\n",
    "    <font color='4682B4'><u><b>КОММЕНТАРИЙ СТУДЕНТА</b></u></font>\n",
    "    <br />\n",
    "    <font color='4682B4'>Аналогично, возможно было бы написать функцию для всех трех датафреймов и избежать копирования.</font>\n",
    "</div>\n"
   ]
  },
  {
   "cell_type": "code",
   "execution_count": 42,
   "metadata": {},
   "outputs": [],
   "source": [
    "state = np.random.RandomState(12345)\n"
   ]
  },
  {
   "cell_type": "markdown",
   "metadata": {},
   "source": [
    "<div style=\"background: #B0E0E6; padding: 5px; border: 1px solid SteelBlue; border-radius: 5px;\">\n",
    "    <font color='4682B4'><u><b>КОММЕНТАРИЙ СТУДЕНТА</b></u></font>\n",
    "    <br />\n",
    "    <font color='4682B4'>Применим технику бусттреп. Параллельно будем считать loss_counter - количество выборок с отрицательной прибылью(понадобится для подсчета рисков)</font>\n",
    "</div>\n"
   ]
  },
  {
   "cell_type": "code",
   "execution_count": 43,
   "metadata": {},
   "outputs": [],
   "source": [
    "predictions = pd.Series(model1.predict(features_valid_df1), index=features_valid_df1.index)\n",
    "values = []\n",
    "loss_counter = 0\n",
    "for i in range(1000):\n",
    "        subsample_target = target_valid_df1.sample(n=explore, replace=True, random_state=state)\n",
    "        subsample_predict = pd.Series(predictions)[subsample_target.index]\n",
    "\n",
    "        profit = calculate_profit(subsample_target, subsample_predict, 200)\n",
    "\n",
    "        values.append(profit)\n",
    "        if (profit < 0):\n",
    "            loss_counter += 1\n",
    "values = pd.Series(values)\n",
    "    \n",
    "\n",
    "    "
   ]
  },
  {
   "cell_type": "code",
   "execution_count": 44,
   "metadata": {},
   "outputs": [
    {
     "data": {
      "image/png": "[encoded data removed]",
      "text/plain": [
       "<Figure size 1080x720 with 1 Axes>"
      ]
     },
     "metadata": {
      "needs_background": "light"
     },
     "output_type": "display_data"
    }
   ],
   "source": [
    "values.hist(bins=100, figsize=(15, 10))\n",
    "plt.xlabel('Прибыль')\n",
    "plt.ylabel('Количество подвыборок')\n",
    "plt.grid(linewidth=0.5)\n",
    "plt.title('Распределение прибыли')\n",
    "plt.show()"
   ]
  },
  {
   "cell_type": "code",
   "execution_count": 45,
   "metadata": {},
   "outputs": [
    {
     "name": "stdout",
     "output_type": "stream",
     "text": [
      "Средняя возможная прибыль первого региона(в рублях): 425938526.91059244\n"
     ]
    }
   ],
   "source": [
    "print('Средняя возможная прибыль первого региона(в рублях):',values.mean())\n"
   ]
  },
  {
   "cell_type": "code",
   "execution_count": 46,
   "metadata": {},
   "outputs": [],
   "source": [
    "confidence_interval = st.t.interval(\n",
    "    0.95, len(values)-1,values.mean(),values.sem())"
   ]
  },
  {
   "cell_type": "code",
   "execution_count": 47,
   "metadata": {},
   "outputs": [
    {
     "name": "stdout",
     "output_type": "stream",
     "text": [
      "95%-ый доверительный интервал: -102090094.83793654 947976353.3583689\n"
     ]
    }
   ],
   "source": [
    "print('95%-ый доверительный интервал:',values.quantile(0.025),values.quantile(0.975))\n"
   ]
  },
  {
   "cell_type": "code",
   "execution_count": 48,
   "metadata": {},
   "outputs": [
    {
     "name": "stdout",
     "output_type": "stream",
     "text": [
      "Вероятность риска:6.00%\n"
     ]
    }
   ],
   "source": [
    "print('Вероятность риска:{:.2%}'.format(loss_counter/1000))"
   ]
  },
  {
   "cell_type": "code",
   "execution_count": 49,
   "metadata": {},
   "outputs": [
    {
     "data": {
      "image/png": "[encoded data removed]",
      "text/plain": [
       "<Figure size 1080x720 with 1 Axes>"
      ]
     },
     "metadata": {
      "needs_background": "light"
     },
     "output_type": "display_data"
    }
   ],
   "source": [
    "predictions = pd.Series(model2.predict(features_valid_df2), index=features_valid_df2.index)\n",
    "values = []\n",
    "loss_counter = 0\n",
    "for i in range(1000):\n",
    "        subsample_target = target_valid_df2.sample(n=explore, replace=True, random_state=state)\n",
    "        subsample_predict = pd.Series(predictions)[subsample_target.index]\n",
    "\n",
    "        profit = calculate_profit(subsample_target, subsample_predict, 200)\n",
    "\n",
    "        values.append(profit)\n",
    "        if (profit < 0):\n",
    "            loss_counter += 1\n",
    "values = pd.Series(values)\n",
    "values.hist(bins=100, figsize=(15, 10))\n",
    "plt.xlabel('Прибыль')\n",
    "plt.ylabel('Количество подвыборок')\n",
    "plt.grid(linewidth=0.5)\n",
    "plt.title('Распределение прибыли')\n",
    "plt.show()"
   ]
  },
  {
   "cell_type": "code",
   "execution_count": 50,
   "metadata": {},
   "outputs": [
    {
     "name": "stdout",
     "output_type": "stream",
     "text": [
      "Средняя возможная прибыль первого региона(в рублях): 518259493.6973249\n",
      "95%-ый доверительный интервал: 128123231.43308444 953612982.0669085\n",
      "Вероятность риска:0.30%\n"
     ]
    }
   ],
   "source": [
    "print('Средняя возможная прибыль первого региона(в рублях):',values.mean())\n",
    "print('95%-ый доверительный интервал:',values.quantile(0.025),values.quantile(0.975))\n",
    "\n",
    "print('Вероятность риска:{:.2%}'.format(loss_counter/1000))"
   ]
  },
  {
   "cell_type": "code",
   "execution_count": 51,
   "metadata": {},
   "outputs": [
    {
     "data": {
      "image/png": "[encoded data removed]",
      "text/plain": [
       "<Figure size 1080x720 with 1 Axes>"
      ]
     },
     "metadata": {
      "needs_background": "light"
     },
     "output_type": "display_data"
    }
   ],
   "source": [
    "predictions = pd.Series(model3.predict(features_valid_df3), index=features_valid_df3.index)\n",
    "values = []\n",
    "loss_counter = 0\n",
    "for i in range(1000):\n",
    "        subsample_target = target_valid_df3.sample(n=explore, replace=True, random_state=state)\n",
    "        subsample_predict = pd.Series(predictions)[subsample_target.index]\n",
    "\n",
    "        profit = calculate_profit(subsample_target, subsample_predict, 200)\n",
    "\n",
    "        values.append(profit)\n",
    "        if (profit < 0):\n",
    "            loss_counter += 1\n",
    "values = pd.Series(values)\n",
    "values.hist(bins=100, figsize=(15, 10))\n",
    "plt.xlabel('Прибыль')\n",
    "plt.ylabel('Количество подвыборок')\n",
    "plt.grid(linewidth=0.5)\n",
    "plt.title('Распределение прибыли')\n",
    "plt.show()"
   ]
  },
  {
   "cell_type": "code",
   "execution_count": 52,
   "metadata": {},
   "outputs": [
    {
     "name": "stdout",
     "output_type": "stream",
     "text": [
      "Средняя возможная прибыль первого региона(в рублях): 420194005.3440501\n",
      "95%-ый доверительный интервал: -115852609.16001143 989629939.8445739\n",
      "Вероятность риска:6.20%\n"
     ]
    }
   ],
   "source": [
    "print('Средняя возможная прибыль первого региона(в рублях):',values.mean())\n",
    "print('95%-ый доверительный интервал:',values.quantile(0.025),values.quantile(0.975))\n",
    "\n",
    "print('Вероятность риска:{:.2%}'.format(loss_counter/1000))"
   ]
  },
  {
   "cell_type": "markdown",
   "metadata": {},
   "source": [
    "## Вывод"
   ]
  },
  {
   "cell_type": "markdown",
   "metadata": {},
   "source": [
    "<div style=\"background: #B0E0E6; padding: 5px; border: 1px solid SteelBlue; border-radius: 5px;\">\n",
    "    <font color='4682B4'><u><b>КОММЕНТАРИЙ СТУДЕНТА</b></u></font>\n",
    "    <br />\n",
    "    <font color='4682B4'>В результате предварительной обработки данных, обучения моделей машинного обучения к каждой из таблиц, пришли к выводу, что единственным возможным регионом для разработки месторождений является второй. Потеря рисков на нем меньше 2,5% и, в отличие от остальных двух регионов, прибыль в нем значительно больше. </font>\n",
    "</div>\n"
   ]
  },
  {
   "cell_type": "code",
   "execution_count": null,
   "metadata": {},
   "outputs": [],
   "source": []
  }
 ],
 "metadata": {
  "ExecuteTimeLog": [
   {
    "duration": 1520,
    "start_time": "2022-06-30T23:35:24.539Z"
   },
   {
    "duration": 135,
    "start_time": "2022-06-30T23:35:32.002Z"
   },
   {
    "duration": 388,
    "start_time": "2022-06-30T23:36:55.982Z"
   },
   {
    "duration": 494,
    "start_time": "2022-06-30T23:37:02.783Z"
   },
   {
    "duration": 14,
    "start_time": "2022-06-30T23:37:21.412Z"
   },
   {
    "duration": 5,
    "start_time": "2022-06-30T23:37:26.397Z"
   },
   {
    "duration": 12,
    "start_time": "2022-06-30T23:37:33.202Z"
   },
   {
    "duration": 196,
    "start_time": "2022-06-30T23:37:41.263Z"
   },
   {
    "duration": 186,
    "start_time": "2022-06-30T23:37:54.949Z"
   },
   {
    "duration": 1467,
    "start_time": "2022-07-01T08:26:51.250Z"
   },
   {
    "duration": 721,
    "start_time": "2022-07-01T08:26:52.720Z"
   },
   {
    "duration": 16,
    "start_time": "2022-07-01T08:26:57.243Z"
   },
   {
    "duration": 104,
    "start_time": "2022-07-01T08:27:56.505Z"
   },
   {
    "duration": 171,
    "start_time": "2022-07-01T08:28:04.438Z"
   },
   {
    "duration": 96,
    "start_time": "2022-07-01T08:28:18.316Z"
   },
   {
    "duration": 102,
    "start_time": "2022-07-01T08:28:23.183Z"
   },
   {
    "duration": 107,
    "start_time": "2022-07-01T08:28:35.928Z"
   },
   {
    "duration": 166,
    "start_time": "2022-07-01T08:29:00.115Z"
   },
   {
    "duration": 193,
    "start_time": "2022-07-01T08:29:08.961Z"
   },
   {
    "duration": 6,
    "start_time": "2022-07-01T08:32:23.271Z"
   },
   {
    "duration": 18,
    "start_time": "2022-07-01T08:32:40.663Z"
   },
   {
    "duration": 37,
    "start_time": "2022-07-01T08:33:25.019Z"
   },
   {
    "duration": 17,
    "start_time": "2022-07-01T08:33:39.418Z"
   },
   {
    "duration": 34,
    "start_time": "2022-07-01T08:33:39.798Z"
   },
   {
    "duration": 3,
    "start_time": "2022-07-01T08:33:54.043Z"
   },
   {
    "duration": 346,
    "start_time": "2022-07-01T08:33:54.275Z"
   },
   {
    "duration": 15,
    "start_time": "2022-07-01T08:33:54.622Z"
   },
   {
    "duration": 14,
    "start_time": "2022-07-01T08:33:54.680Z"
   },
   {
    "duration": 4,
    "start_time": "2022-07-01T08:33:54.881Z"
   },
   {
    "duration": 12,
    "start_time": "2022-07-01T08:33:55.123Z"
   },
   {
    "duration": 176,
    "start_time": "2022-07-01T08:33:55.356Z"
   },
   {
    "duration": 112,
    "start_time": "2022-07-01T08:33:55.675Z"
   },
   {
    "duration": 161,
    "start_time": "2022-07-01T08:33:56.264Z"
   },
   {
    "duration": 96,
    "start_time": "2022-07-01T08:33:56.806Z"
   },
   {
    "duration": 156,
    "start_time": "2022-07-01T08:33:57.187Z"
   },
   {
    "duration": 107,
    "start_time": "2022-07-01T08:33:57.536Z"
   },
   {
    "duration": 17,
    "start_time": "2022-07-01T08:34:10.430Z"
   },
   {
    "duration": 14,
    "start_time": "2022-07-01T08:34:10.610Z"
   },
   {
    "duration": 273,
    "start_time": "2022-07-01T08:34:11.496Z"
   },
   {
    "duration": 112,
    "start_time": "2022-07-01T08:34:11.771Z"
   },
   {
    "duration": 172,
    "start_time": "2022-07-01T08:34:12.059Z"
   },
   {
    "duration": 114,
    "start_time": "2022-07-01T08:34:12.235Z"
   },
   {
    "duration": 243,
    "start_time": "2022-07-01T08:34:12.443Z"
   },
   {
    "duration": 98,
    "start_time": "2022-07-01T08:34:12.703Z"
   },
   {
    "duration": 4,
    "start_time": "2022-07-01T08:34:13.856Z"
   },
   {
    "duration": 16,
    "start_time": "2022-07-01T08:34:14.100Z"
   },
   {
    "duration": 25,
    "start_time": "2022-07-01T08:34:14.507Z"
   },
   {
    "duration": 8,
    "start_time": "2022-07-01T08:34:24.575Z"
   },
   {
    "duration": 8,
    "start_time": "2022-07-01T08:34:33.417Z"
   },
   {
    "duration": 10,
    "start_time": "2022-07-01T08:34:41.417Z"
   },
   {
    "duration": 6,
    "start_time": "2022-07-01T08:34:48.547Z"
   },
   {
    "duration": 15,
    "start_time": "2022-07-01T08:36:03.784Z"
   },
   {
    "duration": 4,
    "start_time": "2022-07-01T08:36:05.322Z"
   },
   {
    "duration": 10,
    "start_time": "2022-07-01T08:36:05.582Z"
   },
   {
    "duration": 22,
    "start_time": "2022-07-01T08:36:05.893Z"
   },
   {
    "duration": 6,
    "start_time": "2022-07-01T08:36:06.464Z"
   },
   {
    "duration": 6,
    "start_time": "2022-07-01T08:36:12.794Z"
   },
   {
    "duration": 7,
    "start_time": "2022-07-01T08:36:13.868Z"
   },
   {
    "duration": 6,
    "start_time": "2022-07-01T08:36:21.407Z"
   },
   {
    "duration": 5,
    "start_time": "2022-07-01T08:47:20.191Z"
   },
   {
    "duration": 9,
    "start_time": "2022-07-01T08:47:46.072Z"
   },
   {
    "duration": 11,
    "start_time": "2022-07-01T08:47:48.754Z"
   },
   {
    "duration": 4,
    "start_time": "2022-07-01T08:48:19.181Z"
   },
   {
    "duration": 5,
    "start_time": "2022-07-01T08:48:30.572Z"
   },
   {
    "duration": 5,
    "start_time": "2022-07-01T08:48:49.254Z"
   },
   {
    "duration": 4,
    "start_time": "2022-07-01T08:48:58.029Z"
   },
   {
    "duration": 11,
    "start_time": "2022-07-01T08:49:46.488Z"
   },
   {
    "duration": 20,
    "start_time": "2022-07-01T08:50:18.331Z"
   },
   {
    "duration": 49,
    "start_time": "2022-07-01T08:50:29.535Z"
   },
   {
    "duration": 13,
    "start_time": "2022-07-01T08:50:31.583Z"
   },
   {
    "duration": 3,
    "start_time": "2022-07-01T08:50:41.651Z"
   },
   {
    "duration": 5,
    "start_time": "2022-07-01T08:51:20.114Z"
   },
   {
    "duration": 5,
    "start_time": "2022-07-01T08:51:28.286Z"
   },
   {
    "duration": 5,
    "start_time": "2022-07-01T08:51:43.287Z"
   },
   {
    "duration": 3,
    "start_time": "2022-07-01T08:53:42.684Z"
   },
   {
    "duration": 5,
    "start_time": "2022-07-01T08:59:13.001Z"
   },
   {
    "duration": 22,
    "start_time": "2022-07-01T09:00:43.697Z"
   },
   {
    "duration": 15,
    "start_time": "2022-07-01T09:00:52.082Z"
   },
   {
    "duration": 3,
    "start_time": "2022-07-01T09:01:38.560Z"
   },
   {
    "duration": 23,
    "start_time": "2022-07-01T09:01:51.291Z"
   },
   {
    "duration": 52,
    "start_time": "2022-07-01T09:02:35.240Z"
   },
   {
    "duration": 11,
    "start_time": "2022-07-01T09:02:38.180Z"
   },
   {
    "duration": 1489,
    "start_time": "2022-07-02T09:27:19.392Z"
   },
   {
    "duration": 1918,
    "start_time": "2022-07-02T09:27:20.883Z"
   },
   {
    "duration": 13,
    "start_time": "2022-07-02T09:27:22.803Z"
   },
   {
    "duration": 20,
    "start_time": "2022-07-02T09:27:22.817Z"
   },
   {
    "duration": 5,
    "start_time": "2022-07-02T09:27:22.838Z"
   },
   {
    "duration": 17,
    "start_time": "2022-07-02T09:27:22.845Z"
   },
   {
    "duration": 201,
    "start_time": "2022-07-02T09:27:22.864Z"
   },
   {
    "duration": 105,
    "start_time": "2022-07-02T09:27:23.066Z"
   },
   {
    "duration": 189,
    "start_time": "2022-07-02T09:27:23.173Z"
   },
   {
    "duration": 113,
    "start_time": "2022-07-02T09:27:23.364Z"
   },
   {
    "duration": 164,
    "start_time": "2022-07-02T09:27:23.478Z"
   },
   {
    "duration": 187,
    "start_time": "2022-07-02T09:27:23.643Z"
   },
   {
    "duration": 4,
    "start_time": "2022-07-02T09:27:23.832Z"
   },
   {
    "duration": 16,
    "start_time": "2022-07-02T09:27:23.838Z"
   },
   {
    "duration": 83,
    "start_time": "2022-07-02T09:27:23.856Z"
   },
   {
    "duration": 91,
    "start_time": "2022-07-02T09:27:23.940Z"
   },
   {
    "duration": 222,
    "start_time": "2022-07-02T09:27:24.033Z"
   },
   {
    "duration": 0,
    "start_time": "2022-07-02T09:27:24.257Z"
   },
   {
    "duration": 0,
    "start_time": "2022-07-02T09:27:24.259Z"
   },
   {
    "duration": 0,
    "start_time": "2022-07-02T09:27:24.260Z"
   },
   {
    "duration": 0,
    "start_time": "2022-07-02T09:27:24.261Z"
   },
   {
    "duration": 0,
    "start_time": "2022-07-02T09:27:24.262Z"
   },
   {
    "duration": 0,
    "start_time": "2022-07-02T09:27:24.263Z"
   },
   {
    "duration": 0,
    "start_time": "2022-07-02T09:27:24.264Z"
   },
   {
    "duration": 10,
    "start_time": "2022-07-02T09:27:43.193Z"
   },
   {
    "duration": 5,
    "start_time": "2022-07-02T09:27:44.879Z"
   },
   {
    "duration": 16,
    "start_time": "2022-07-02T09:27:45.124Z"
   },
   {
    "duration": 7,
    "start_time": "2022-07-02T09:27:59.276Z"
   },
   {
    "duration": 21,
    "start_time": "2022-07-02T09:27:59.470Z"
   },
   {
    "duration": 14,
    "start_time": "2022-07-02T09:28:21.201Z"
   },
   {
    "duration": 6,
    "start_time": "2022-07-02T09:28:28.370Z"
   },
   {
    "duration": 9,
    "start_time": "2022-07-02T09:28:30.739Z"
   },
   {
    "duration": 3,
    "start_time": "2022-07-02T09:28:31.315Z"
   },
   {
    "duration": 5,
    "start_time": "2022-07-02T09:28:31.589Z"
   },
   {
    "duration": 4,
    "start_time": "2022-07-02T09:28:31.857Z"
   },
   {
    "duration": 4,
    "start_time": "2022-07-02T09:28:32.109Z"
   },
   {
    "duration": 7,
    "start_time": "2022-07-02T09:28:33.159Z"
   },
   {
    "duration": 14,
    "start_time": "2022-07-02T09:28:33.751Z"
   },
   {
    "duration": 6,
    "start_time": "2022-07-02T09:30:06.480Z"
   },
   {
    "duration": 17,
    "start_time": "2022-07-02T09:30:06.831Z"
   },
   {
    "duration": 5,
    "start_time": "2022-07-02T09:30:18.174Z"
   },
   {
    "duration": 14,
    "start_time": "2022-07-02T09:30:18.649Z"
   },
   {
    "duration": 9,
    "start_time": "2022-07-02T09:32:55.388Z"
   },
   {
    "duration": 14,
    "start_time": "2022-07-02T09:32:58.358Z"
   },
   {
    "duration": 19,
    "start_time": "2022-07-02T09:32:58.656Z"
   },
   {
    "duration": 8,
    "start_time": "2022-07-02T09:33:36.713Z"
   },
   {
    "duration": 7,
    "start_time": "2022-07-02T09:33:55.527Z"
   },
   {
    "duration": 18,
    "start_time": "2022-07-02T09:34:39.347Z"
   },
   {
    "duration": 18,
    "start_time": "2022-07-02T09:34:51.031Z"
   },
   {
    "duration": 19,
    "start_time": "2022-07-02T09:34:59.430Z"
   },
   {
    "duration": 5,
    "start_time": "2022-07-02T09:35:27.542Z"
   },
   {
    "duration": 6,
    "start_time": "2022-07-02T09:35:56.551Z"
   },
   {
    "duration": 6,
    "start_time": "2022-07-02T09:43:17.599Z"
   },
   {
    "duration": 7,
    "start_time": "2022-07-02T09:43:22.528Z"
   },
   {
    "duration": 6,
    "start_time": "2022-07-02T09:43:30.135Z"
   },
   {
    "duration": 42,
    "start_time": "2022-07-04T10:27:44.975Z"
   },
   {
    "duration": 1399,
    "start_time": "2022-07-04T10:27:49.738Z"
   },
   {
    "duration": 668,
    "start_time": "2022-07-04T10:27:51.139Z"
   },
   {
    "duration": 13,
    "start_time": "2022-07-04T10:27:51.809Z"
   },
   {
    "duration": 14,
    "start_time": "2022-07-04T10:27:51.824Z"
   },
   {
    "duration": 11,
    "start_time": "2022-07-04T10:27:51.839Z"
   },
   {
    "duration": 10,
    "start_time": "2022-07-04T10:27:51.852Z"
   },
   {
    "duration": 189,
    "start_time": "2022-07-04T10:27:51.864Z"
   },
   {
    "duration": 107,
    "start_time": "2022-07-04T10:27:52.055Z"
   },
   {
    "duration": 163,
    "start_time": "2022-07-04T10:27:52.164Z"
   },
   {
    "duration": 108,
    "start_time": "2022-07-04T10:27:52.330Z"
   },
   {
    "duration": 164,
    "start_time": "2022-07-04T10:27:52.439Z"
   },
   {
    "duration": 190,
    "start_time": "2022-07-04T10:27:52.604Z"
   },
   {
    "duration": 4,
    "start_time": "2022-07-04T10:27:52.796Z"
   },
   {
    "duration": 14,
    "start_time": "2022-07-04T10:27:52.802Z"
   },
   {
    "duration": 138,
    "start_time": "2022-07-04T10:27:52.818Z"
   },
   {
    "duration": 94,
    "start_time": "2022-07-04T10:27:52.957Z"
   },
   {
    "duration": 104,
    "start_time": "2022-07-04T10:27:53.053Z"
   },
   {
    "duration": 9,
    "start_time": "2022-07-04T10:27:53.159Z"
   },
   {
    "duration": 3,
    "start_time": "2022-07-04T10:27:53.169Z"
   },
   {
    "duration": 6,
    "start_time": "2022-07-04T10:27:53.173Z"
   },
   {
    "duration": 5,
    "start_time": "2022-07-04T10:27:53.181Z"
   },
   {
    "duration": 6,
    "start_time": "2022-07-04T10:27:53.187Z"
   },
   {
    "duration": 56,
    "start_time": "2022-07-04T10:27:53.195Z"
   },
   {
    "duration": 19,
    "start_time": "2022-07-04T10:27:53.252Z"
   },
   {
    "duration": 12,
    "start_time": "2022-07-04T10:27:53.272Z"
   },
   {
    "duration": 14,
    "start_time": "2022-07-04T10:27:53.286Z"
   },
   {
    "duration": 56,
    "start_time": "2022-07-04T10:27:53.301Z"
   },
   {
    "duration": 196,
    "start_time": "2022-07-04T10:27:53.360Z"
   },
   {
    "duration": 13,
    "start_time": "2022-07-04T10:27:53.557Z"
   },
   {
    "duration": 16,
    "start_time": "2022-07-04T10:27:53.571Z"
   },
   {
    "duration": 69,
    "start_time": "2022-07-04T10:27:53.588Z"
   },
   {
    "duration": 107,
    "start_time": "2022-07-04T10:27:53.659Z"
   },
   {
    "duration": 85,
    "start_time": "2022-07-04T10:27:53.768Z"
   },
   {
    "duration": 2,
    "start_time": "2022-07-04T10:27:54.793Z"
   },
   {
    "duration": 2,
    "start_time": "2022-07-04T10:28:33.085Z"
   },
   {
    "duration": 4,
    "start_time": "2022-07-04T10:28:38.633Z"
   },
   {
    "duration": 4,
    "start_time": "2022-07-04T10:29:45.283Z"
   },
   {
    "duration": 3,
    "start_time": "2022-07-04T10:29:58.373Z"
   },
   {
    "duration": 4,
    "start_time": "2022-07-04T10:30:07.364Z"
   },
   {
    "duration": 3,
    "start_time": "2022-07-04T10:36:53.038Z"
   },
   {
    "duration": 74,
    "start_time": "2022-07-04T10:37:36.061Z"
   },
   {
    "duration": 4,
    "start_time": "2022-07-04T10:38:36.292Z"
   },
   {
    "duration": 3,
    "start_time": "2022-07-04T10:38:58.033Z"
   },
   {
    "duration": 12,
    "start_time": "2022-07-04T10:38:58.333Z"
   },
   {
    "duration": 3,
    "start_time": "2022-07-04T10:39:02.435Z"
   },
   {
    "duration": 12,
    "start_time": "2022-07-04T10:39:02.928Z"
   },
   {
    "duration": 3,
    "start_time": "2022-07-04T10:39:41.640Z"
   },
   {
    "duration": 3,
    "start_time": "2022-07-04T10:44:17.065Z"
   },
   {
    "duration": 3,
    "start_time": "2022-07-04T10:46:46.970Z"
   },
   {
    "duration": 10,
    "start_time": "2022-07-04T11:46:03.499Z"
   },
   {
    "duration": 16,
    "start_time": "2022-07-04T11:57:55.429Z"
   },
   {
    "duration": 49,
    "start_time": "2022-07-04T11:58:26.007Z"
   },
   {
    "duration": 82,
    "start_time": "2022-07-04T11:58:30.575Z"
   },
   {
    "duration": 43,
    "start_time": "2022-07-04T11:58:57.725Z"
   },
   {
    "duration": 3,
    "start_time": "2022-07-04T12:01:27.711Z"
   },
   {
    "duration": 49,
    "start_time": "2022-07-04T12:01:27.920Z"
   },
   {
    "duration": 46,
    "start_time": "2022-07-04T12:02:03.910Z"
   },
   {
    "duration": 45,
    "start_time": "2022-07-04T12:02:29.311Z"
   },
   {
    "duration": 65,
    "start_time": "2022-07-04T12:05:21.792Z"
   },
   {
    "duration": 62,
    "start_time": "2022-07-04T12:06:27.895Z"
   },
   {
    "duration": 47,
    "start_time": "2022-07-04T19:12:51.837Z"
   },
   {
    "duration": 1518,
    "start_time": "2022-07-04T19:12:58.349Z"
   },
   {
    "duration": 719,
    "start_time": "2022-07-04T19:12:59.869Z"
   },
   {
    "duration": 15,
    "start_time": "2022-07-04T19:13:00.590Z"
   },
   {
    "duration": 16,
    "start_time": "2022-07-04T19:13:00.607Z"
   },
   {
    "duration": 6,
    "start_time": "2022-07-04T19:13:00.625Z"
   },
   {
    "duration": 21,
    "start_time": "2022-07-04T19:13:00.632Z"
   },
   {
    "duration": 225,
    "start_time": "2022-07-04T19:13:00.655Z"
   },
   {
    "duration": 132,
    "start_time": "2022-07-04T19:13:00.882Z"
   },
   {
    "duration": 197,
    "start_time": "2022-07-04T19:13:01.016Z"
   },
   {
    "duration": 130,
    "start_time": "2022-07-04T19:13:01.216Z"
   },
   {
    "duration": 202,
    "start_time": "2022-07-04T19:13:01.348Z"
   },
   {
    "duration": 204,
    "start_time": "2022-07-04T19:13:01.552Z"
   },
   {
    "duration": 4,
    "start_time": "2022-07-04T19:13:01.758Z"
   },
   {
    "duration": 30,
    "start_time": "2022-07-04T19:13:01.764Z"
   },
   {
    "duration": 109,
    "start_time": "2022-07-04T19:13:01.796Z"
   },
   {
    "duration": 98,
    "start_time": "2022-07-04T19:13:01.906Z"
   },
   {
    "duration": 96,
    "start_time": "2022-07-04T19:13:02.008Z"
   },
   {
    "duration": 94,
    "start_time": "2022-07-04T19:13:02.106Z"
   },
   {
    "duration": 26,
    "start_time": "2022-07-04T19:13:02.203Z"
   },
   {
    "duration": 4,
    "start_time": "2022-07-04T19:13:02.231Z"
   },
   {
    "duration": 13,
    "start_time": "2022-07-04T19:13:02.237Z"
   },
   {
    "duration": 16,
    "start_time": "2022-07-04T19:13:02.252Z"
   },
   {
    "duration": 22,
    "start_time": "2022-07-04T19:13:02.270Z"
   },
   {
    "duration": 10,
    "start_time": "2022-07-04T19:13:02.294Z"
   },
   {
    "duration": 32,
    "start_time": "2022-07-04T19:13:02.306Z"
   },
   {
    "duration": 20,
    "start_time": "2022-07-04T19:13:02.340Z"
   },
   {
    "duration": 38,
    "start_time": "2022-07-04T19:13:02.363Z"
   },
   {
    "duration": 95,
    "start_time": "2022-07-04T19:13:02.407Z"
   },
   {
    "duration": 104,
    "start_time": "2022-07-04T19:13:02.504Z"
   },
   {
    "duration": 111,
    "start_time": "2022-07-04T19:13:02.610Z"
   },
   {
    "duration": 22,
    "start_time": "2022-07-04T19:13:02.723Z"
   },
   {
    "duration": 55,
    "start_time": "2022-07-04T19:13:02.746Z"
   },
   {
    "duration": 98,
    "start_time": "2022-07-04T19:13:02.803Z"
   },
   {
    "duration": 99,
    "start_time": "2022-07-04T19:13:02.903Z"
   },
   {
    "duration": 9,
    "start_time": "2022-07-04T19:13:03.004Z"
   },
   {
    "duration": 21,
    "start_time": "2022-07-04T19:13:03.015Z"
   },
   {
    "duration": 12,
    "start_time": "2022-07-04T19:13:03.038Z"
   },
   {
    "duration": 12,
    "start_time": "2022-07-04T19:13:03.052Z"
   },
   {
    "duration": 22,
    "start_time": "2022-07-04T19:13:03.066Z"
   },
   {
    "duration": 10,
    "start_time": "2022-07-04T19:13:03.090Z"
   },
   {
    "duration": 15,
    "start_time": "2022-07-04T19:13:03.101Z"
   },
   {
    "duration": 15,
    "start_time": "2022-07-04T19:13:03.118Z"
   },
   {
    "duration": 115,
    "start_time": "2022-07-04T19:13:03.134Z"
   },
   {
    "duration": 13,
    "start_time": "2022-07-04T19:14:53.654Z"
   },
   {
    "duration": 5,
    "start_time": "2022-07-04T19:14:59.289Z"
   },
   {
    "duration": 9,
    "start_time": "2022-07-04T19:15:09.955Z"
   },
   {
    "duration": 4,
    "start_time": "2022-07-04T19:16:34.600Z"
   },
   {
    "duration": 345,
    "start_time": "2022-07-04T19:16:44.241Z"
   },
   {
    "duration": 390,
    "start_time": "2022-07-04T19:16:53.102Z"
   },
   {
    "duration": 330,
    "start_time": "2022-07-04T19:17:30.212Z"
   },
   {
    "duration": 389,
    "start_time": "2022-07-04T19:18:07.101Z"
   },
   {
    "duration": 3,
    "start_time": "2022-07-04T19:19:26.296Z"
   },
   {
    "duration": 3,
    "start_time": "2022-07-04T19:19:26.577Z"
   },
   {
    "duration": 3,
    "start_time": "2022-07-04T19:19:27.398Z"
   },
   {
    "duration": 6,
    "start_time": "2022-07-04T19:19:27.767Z"
   },
   {
    "duration": 51,
    "start_time": "2022-07-04T19:19:28.552Z"
   },
   {
    "duration": 3,
    "start_time": "2022-07-04T19:19:50.619Z"
   },
   {
    "duration": 3,
    "start_time": "2022-07-04T19:19:51.104Z"
   },
   {
    "duration": 6,
    "start_time": "2022-07-04T19:19:51.367Z"
   },
   {
    "duration": 1512,
    "start_time": "2022-07-04T19:19:52.185Z"
   },
   {
    "duration": 60,
    "start_time": "2022-07-04T19:20:13.520Z"
   },
   {
    "duration": 3,
    "start_time": "2022-07-04T19:27:07.280Z"
   },
   {
    "duration": 12,
    "start_time": "2022-07-04T19:27:23.752Z"
   },
   {
    "duration": 5,
    "start_time": "2022-07-04T19:27:29.810Z"
   },
   {
    "duration": 6,
    "start_time": "2022-07-04T19:27:37.405Z"
   },
   {
    "duration": 4,
    "start_time": "2022-07-04T19:28:38.779Z"
   },
   {
    "duration": 59,
    "start_time": "2022-07-04T19:29:05.370Z"
   },
   {
    "duration": 301,
    "start_time": "2022-07-04T19:29:13.938Z"
   },
   {
    "duration": 1467,
    "start_time": "2022-07-04T19:30:19.167Z"
   },
   {
    "duration": 290,
    "start_time": "2022-07-04T19:30:20.636Z"
   },
   {
    "duration": 4,
    "start_time": "2022-07-04T19:30:23.262Z"
   },
   {
    "duration": 3,
    "start_time": "2022-07-04T19:31:02.450Z"
   },
   {
    "duration": 3,
    "start_time": "2022-07-04T19:31:02.976Z"
   },
   {
    "duration": 1679,
    "start_time": "2022-07-04T19:31:03.195Z"
   },
   {
    "duration": 344,
    "start_time": "2022-07-04T19:31:04.876Z"
   },
   {
    "duration": 5,
    "start_time": "2022-07-04T19:31:05.225Z"
   },
   {
    "duration": 4,
    "start_time": "2022-07-04T19:31:21.040Z"
   },
   {
    "duration": 3,
    "start_time": "2022-07-04T19:31:21.534Z"
   },
   {
    "duration": 1874,
    "start_time": "2022-07-04T19:31:21.771Z"
   },
   {
    "duration": 443,
    "start_time": "2022-07-04T19:31:23.648Z"
   },
   {
    "duration": 7,
    "start_time": "2022-07-04T19:31:24.094Z"
   },
   {
    "duration": 3,
    "start_time": "2022-07-04T19:33:25.605Z"
   },
   {
    "duration": 4,
    "start_time": "2022-07-04T19:33:26.075Z"
   },
   {
    "duration": 1581,
    "start_time": "2022-07-04T19:33:26.287Z"
   },
   {
    "duration": 390,
    "start_time": "2022-07-04T19:33:27.871Z"
   },
   {
    "duration": 4,
    "start_time": "2022-07-04T19:33:28.263Z"
   },
   {
    "duration": 4,
    "start_time": "2022-07-04T19:33:33.274Z"
   },
   {
    "duration": 4,
    "start_time": "2022-07-04T19:33:43.043Z"
   },
   {
    "duration": 4,
    "start_time": "2022-07-04T19:33:43.422Z"
   },
   {
    "duration": 1742,
    "start_time": "2022-07-04T19:33:43.591Z"
   },
   {
    "duration": 427,
    "start_time": "2022-07-04T19:33:45.336Z"
   },
   {
    "duration": 4,
    "start_time": "2022-07-04T19:33:45.765Z"
   },
   {
    "duration": 4,
    "start_time": "2022-07-04T19:33:48.311Z"
   },
   {
    "duration": 1551,
    "start_time": "2022-07-04T19:33:58.559Z"
   },
   {
    "duration": 315,
    "start_time": "2022-07-04T19:34:00.112Z"
   },
   {
    "duration": 4,
    "start_time": "2022-07-04T19:34:00.429Z"
   },
   {
    "duration": 5,
    "start_time": "2022-07-04T19:34:03.698Z"
   },
   {
    "duration": 1406,
    "start_time": "2022-07-04T19:34:33.571Z"
   },
   {
    "duration": 394,
    "start_time": "2022-07-04T19:34:34.980Z"
   },
   {
    "duration": 17,
    "start_time": "2022-07-04T19:34:35.376Z"
   },
   {
    "duration": 31,
    "start_time": "2022-07-04T19:34:35.401Z"
   },
   {
    "duration": 29,
    "start_time": "2022-07-04T19:34:35.436Z"
   },
   {
    "duration": 65,
    "start_time": "2022-07-04T19:34:35.467Z"
   },
   {
    "duration": 231,
    "start_time": "2022-07-04T19:34:35.534Z"
   },
   {
    "duration": 112,
    "start_time": "2022-07-04T19:34:35.767Z"
   },
   {
    "duration": 187,
    "start_time": "2022-07-04T19:34:35.881Z"
   },
   {
    "duration": 135,
    "start_time": "2022-07-04T19:34:36.070Z"
   },
   {
    "duration": 198,
    "start_time": "2022-07-04T19:34:36.206Z"
   },
   {
    "duration": 195,
    "start_time": "2022-07-04T19:34:36.406Z"
   },
   {
    "duration": 8,
    "start_time": "2022-07-04T19:34:36.605Z"
   },
   {
    "duration": 23,
    "start_time": "2022-07-04T19:34:36.616Z"
   },
   {
    "duration": 60,
    "start_time": "2022-07-04T19:34:36.641Z"
   },
   {
    "duration": 9,
    "start_time": "2022-07-04T19:34:36.703Z"
   },
   {
    "duration": 196,
    "start_time": "2022-07-04T19:34:36.716Z"
   },
   {
    "duration": 10,
    "start_time": "2022-07-04T19:34:36.914Z"
   },
   {
    "duration": 21,
    "start_time": "2022-07-04T19:34:36.926Z"
   },
   {
    "duration": 3,
    "start_time": "2022-07-04T19:34:36.949Z"
   },
   {
    "duration": 15,
    "start_time": "2022-07-04T19:34:36.954Z"
   },
   {
    "duration": 14,
    "start_time": "2022-07-04T19:34:36.971Z"
   },
   {
    "duration": 18,
    "start_time": "2022-07-04T19:34:36.987Z"
   },
   {
    "duration": 7,
    "start_time": "2022-07-04T19:34:37.007Z"
   },
   {
    "duration": 35,
    "start_time": "2022-07-04T19:34:37.016Z"
   },
   {
    "duration": 19,
    "start_time": "2022-07-04T19:34:37.053Z"
   },
   {
    "duration": 41,
    "start_time": "2022-07-04T19:34:37.074Z"
   },
   {
    "duration": 85,
    "start_time": "2022-07-04T19:34:37.116Z"
   },
   {
    "duration": 103,
    "start_time": "2022-07-04T19:34:37.208Z"
   },
   {
    "duration": 27,
    "start_time": "2022-07-04T19:34:37.312Z"
   },
   {
    "duration": 61,
    "start_time": "2022-07-04T19:34:37.341Z"
   },
   {
    "duration": 108,
    "start_time": "2022-07-04T19:34:37.405Z"
   },
   {
    "duration": 88,
    "start_time": "2022-07-04T19:34:37.516Z"
   },
   {
    "duration": 2,
    "start_time": "2022-07-04T19:34:37.607Z"
   },
   {
    "duration": 91,
    "start_time": "2022-07-04T19:34:37.611Z"
   },
   {
    "duration": 25,
    "start_time": "2022-07-04T19:34:37.704Z"
   },
   {
    "duration": 14,
    "start_time": "2022-07-04T19:34:37.731Z"
   },
   {
    "duration": 19,
    "start_time": "2022-07-04T19:34:37.747Z"
   },
   {
    "duration": 22,
    "start_time": "2022-07-04T19:34:37.768Z"
   },
   {
    "duration": 13,
    "start_time": "2022-07-04T19:34:37.792Z"
   },
   {
    "duration": 15,
    "start_time": "2022-07-04T19:34:37.809Z"
   },
   {
    "duration": 1654,
    "start_time": "2022-07-04T19:34:37.826Z"
   },
   {
    "duration": 311,
    "start_time": "2022-07-04T19:34:39.482Z"
   },
   {
    "duration": 7,
    "start_time": "2022-07-04T19:34:39.794Z"
   },
   {
    "duration": 1579,
    "start_time": "2022-07-04T19:35:03.469Z"
   },
   {
    "duration": 366,
    "start_time": "2022-07-04T19:35:05.050Z"
   },
   {
    "duration": 5,
    "start_time": "2022-07-04T19:35:05.417Z"
   },
   {
    "duration": 4,
    "start_time": "2022-07-04T19:35:47.643Z"
   },
   {
    "duration": 1525,
    "start_time": "2022-07-04T19:35:47.894Z"
   },
   {
    "duration": 296,
    "start_time": "2022-07-04T19:35:49.421Z"
   },
   {
    "duration": 4,
    "start_time": "2022-07-04T19:35:49.718Z"
   },
   {
    "duration": 127,
    "start_time": "2022-07-04T19:37:03.897Z"
   },
   {
    "duration": 5,
    "start_time": "2022-07-04T19:37:19.221Z"
   },
   {
    "duration": 3,
    "start_time": "2022-07-04T19:37:23.668Z"
   },
   {
    "duration": 10,
    "start_time": "2022-07-04T19:37:58.017Z"
   },
   {
    "duration": 9,
    "start_time": "2022-07-04T19:38:02.883Z"
   },
   {
    "duration": 22,
    "start_time": "2022-07-04T19:38:03.716Z"
   },
   {
    "duration": 9,
    "start_time": "2022-07-04T19:38:06.512Z"
   },
   {
    "duration": 8,
    "start_time": "2022-07-04T19:39:26.915Z"
   },
   {
    "duration": 14,
    "start_time": "2022-07-04T19:39:27.595Z"
   },
   {
    "duration": 8,
    "start_time": "2022-07-04T19:39:28.602Z"
   },
   {
    "duration": 4,
    "start_time": "2022-07-04T19:39:28.969Z"
   },
   {
    "duration": 6,
    "start_time": "2022-07-04T19:39:30.369Z"
   },
   {
    "duration": 10,
    "start_time": "2022-07-04T19:39:30.903Z"
   },
   {
    "duration": 4,
    "start_time": "2022-07-04T19:39:30.969Z"
   },
   {
    "duration": 17,
    "start_time": "2022-07-04T19:39:30.996Z"
   },
   {
    "duration": 10,
    "start_time": "2022-07-04T19:39:31.027Z"
   },
   {
    "duration": 15,
    "start_time": "2022-07-04T19:39:31.063Z"
   },
   {
    "duration": 7,
    "start_time": "2022-07-04T19:39:31.151Z"
   },
   {
    "duration": 25,
    "start_time": "2022-07-04T19:39:31.179Z"
   },
   {
    "duration": 18,
    "start_time": "2022-07-04T19:39:31.237Z"
   },
   {
    "duration": 17,
    "start_time": "2022-07-04T19:39:31.268Z"
   },
   {
    "duration": 104,
    "start_time": "2022-07-04T19:39:31.307Z"
   },
   {
    "duration": 205,
    "start_time": "2022-07-04T19:39:31.416Z"
   },
   {
    "duration": 27,
    "start_time": "2022-07-04T19:39:31.623Z"
   },
   {
    "duration": 55,
    "start_time": "2022-07-04T19:39:31.652Z"
   },
   {
    "duration": 95,
    "start_time": "2022-07-04T19:39:31.710Z"
   },
   {
    "duration": 196,
    "start_time": "2022-07-04T19:39:31.807Z"
   },
   {
    "duration": 5,
    "start_time": "2022-07-04T19:39:32.005Z"
   },
   {
    "duration": 11,
    "start_time": "2022-07-04T19:39:32.013Z"
   },
   {
    "duration": 11,
    "start_time": "2022-07-04T19:39:32.027Z"
   },
   {
    "duration": 8,
    "start_time": "2022-07-04T19:39:32.039Z"
   },
   {
    "duration": 9,
    "start_time": "2022-07-04T19:39:32.048Z"
   },
   {
    "duration": 17,
    "start_time": "2022-07-04T19:39:32.059Z"
   },
   {
    "duration": 24,
    "start_time": "2022-07-04T19:39:32.077Z"
   },
   {
    "duration": 25,
    "start_time": "2022-07-04T19:39:32.104Z"
   },
   {
    "duration": 1554,
    "start_time": "2022-07-04T19:39:32.131Z"
   },
   {
    "duration": 347,
    "start_time": "2022-07-04T19:39:33.686Z"
   },
   {
    "duration": 5,
    "start_time": "2022-07-04T19:39:34.035Z"
   },
   {
    "duration": 1583,
    "start_time": "2022-07-04T19:39:53.412Z"
   },
   {
    "duration": 449,
    "start_time": "2022-07-04T19:39:54.998Z"
   },
   {
    "duration": 4,
    "start_time": "2022-07-04T19:39:55.449Z"
   },
   {
    "duration": 4,
    "start_time": "2022-07-04T19:40:50.574Z"
   },
   {
    "duration": 13,
    "start_time": "2022-07-04T19:40:50.833Z"
   },
   {
    "duration": 3,
    "start_time": "2022-07-04T19:40:51.328Z"
   },
   {
    "duration": 11,
    "start_time": "2022-07-04T19:40:51.611Z"
   },
   {
    "duration": 10,
    "start_time": "2022-07-04T19:40:51.979Z"
   },
   {
    "duration": 24,
    "start_time": "2022-07-04T19:40:52.301Z"
   },
   {
    "duration": 9,
    "start_time": "2022-07-04T19:40:52.934Z"
   },
   {
    "duration": 4,
    "start_time": "2022-07-04T19:40:53.230Z"
   },
   {
    "duration": 5,
    "start_time": "2022-07-04T19:40:53.674Z"
   },
   {
    "duration": 9,
    "start_time": "2022-07-04T19:42:28.217Z"
   },
   {
    "duration": 7,
    "start_time": "2022-07-04T19:42:30.767Z"
   },
   {
    "duration": 5,
    "start_time": "2022-07-04T19:42:42.774Z"
   },
   {
    "duration": 4,
    "start_time": "2022-07-04T19:42:58.591Z"
   },
   {
    "duration": 4,
    "start_time": "2022-07-04T19:44:52.564Z"
   },
   {
    "duration": 3,
    "start_time": "2022-07-04T19:44:53.054Z"
   },
   {
    "duration": 1561,
    "start_time": "2022-07-04T19:44:53.237Z"
   },
   {
    "duration": 290,
    "start_time": "2022-07-04T19:44:54.800Z"
   },
   {
    "duration": 10,
    "start_time": "2022-07-04T19:44:55.091Z"
   },
   {
    "duration": 4,
    "start_time": "2022-07-04T19:45:07.983Z"
   },
   {
    "duration": 4,
    "start_time": "2022-07-04T19:45:11.384Z"
   },
   {
    "duration": 4,
    "start_time": "2022-07-04T19:45:13.948Z"
   },
   {
    "duration": 3,
    "start_time": "2022-07-04T19:45:17.374Z"
   },
   {
    "duration": 5,
    "start_time": "2022-07-04T19:45:24.763Z"
   },
   {
    "duration": 4,
    "start_time": "2022-07-04T19:45:30.153Z"
   },
   {
    "duration": 12,
    "start_time": "2022-07-04T19:45:44.183Z"
   },
   {
    "duration": 4,
    "start_time": "2022-07-04T19:45:50.623Z"
   },
   {
    "duration": 4,
    "start_time": "2022-07-04T19:46:01.037Z"
   },
   {
    "duration": 5,
    "start_time": "2022-07-04T19:46:07.141Z"
   },
   {
    "duration": 5,
    "start_time": "2022-07-04T19:46:32.789Z"
   },
   {
    "duration": 3,
    "start_time": "2022-07-04T19:46:42.565Z"
   },
   {
    "duration": 5,
    "start_time": "2022-07-04T19:48:10.187Z"
   },
   {
    "duration": 3,
    "start_time": "2022-07-04T19:48:11.469Z"
   },
   {
    "duration": 5,
    "start_time": "2022-07-04T19:48:14.775Z"
   },
   {
    "duration": 4,
    "start_time": "2022-07-04T19:48:15.702Z"
   },
   {
    "duration": 4,
    "start_time": "2022-07-04T19:49:00.113Z"
   },
   {
    "duration": 3,
    "start_time": "2022-07-04T19:49:13.089Z"
   },
   {
    "duration": 3,
    "start_time": "2022-07-04T19:49:19.071Z"
   },
   {
    "duration": 1855,
    "start_time": "2022-07-04T19:49:56.393Z"
   },
   {
    "duration": 6,
    "start_time": "2022-07-04T19:50:19.935Z"
   },
   {
    "duration": 12,
    "start_time": "2022-07-04T19:51:17.996Z"
   },
   {
    "duration": 6,
    "start_time": "2022-07-04T19:51:30.446Z"
   },
   {
    "duration": 4,
    "start_time": "2022-07-04T19:51:41.181Z"
   },
   {
    "duration": 1734,
    "start_time": "2022-07-04T19:52:09.865Z"
   },
   {
    "duration": 7,
    "start_time": "2022-07-04T19:52:16.346Z"
   },
   {
    "duration": 3,
    "start_time": "2022-07-04T19:52:29.108Z"
   },
   {
    "duration": 3,
    "start_time": "2022-07-04T19:52:29.545Z"
   },
   {
    "duration": 1527,
    "start_time": "2022-07-04T19:52:30.048Z"
   },
   {
    "duration": 289,
    "start_time": "2022-07-04T19:52:31.577Z"
   },
   {
    "duration": 5,
    "start_time": "2022-07-04T19:52:31.868Z"
   },
   {
    "duration": 8,
    "start_time": "2022-07-04T19:52:31.876Z"
   },
   {
    "duration": 17,
    "start_time": "2022-07-04T19:52:31.885Z"
   },
   {
    "duration": 14,
    "start_time": "2022-07-04T19:52:31.904Z"
   },
   {
    "duration": 1910,
    "start_time": "2022-07-04T19:52:31.919Z"
   },
   {
    "duration": 7,
    "start_time": "2022-07-04T19:52:33.831Z"
   },
   {
    "duration": 1983,
    "start_time": "2022-07-04T19:52:33.840Z"
   },
   {
    "duration": 7,
    "start_time": "2022-07-04T19:52:35.826Z"
   },
   {
    "duration": 1796,
    "start_time": "2022-07-04T19:53:01.563Z"
   },
   {
    "duration": 1842,
    "start_time": "2022-07-04T19:53:22.508Z"
   },
   {
    "duration": 3,
    "start_time": "2022-07-04T19:53:50.382Z"
   },
   {
    "duration": 1581,
    "start_time": "2022-07-04T19:53:50.596Z"
   },
   {
    "duration": 293,
    "start_time": "2022-07-04T19:53:52.179Z"
   },
   {
    "duration": 4,
    "start_time": "2022-07-04T19:53:52.474Z"
   },
   {
    "duration": 8,
    "start_time": "2022-07-04T19:53:52.480Z"
   },
   {
    "duration": 5,
    "start_time": "2022-07-04T19:53:52.500Z"
   },
   {
    "duration": 9,
    "start_time": "2022-07-04T19:53:52.506Z"
   },
   {
    "duration": 1839,
    "start_time": "2022-07-04T19:53:52.517Z"
   },
   {
    "duration": 7,
    "start_time": "2022-07-04T19:53:54.357Z"
   },
   {
    "duration": 1985,
    "start_time": "2022-07-04T19:53:54.365Z"
   },
   {
    "duration": 7,
    "start_time": "2022-07-04T19:53:56.353Z"
   },
   {
    "duration": 52,
    "start_time": "2022-07-04T19:55:52.249Z"
   },
   {
    "duration": 50,
    "start_time": "2022-07-04T19:56:10.740Z"
   },
   {
    "duration": 104,
    "start_time": "2022-07-04T19:56:59.308Z"
   },
   {
    "duration": 55,
    "start_time": "2022-07-04T19:57:45.815Z"
   },
   {
    "duration": 96,
    "start_time": "2022-07-04T19:58:39.041Z"
   },
   {
    "duration": 61,
    "start_time": "2022-07-04T19:59:29.237Z"
   },
   {
    "duration": 46,
    "start_time": "2022-07-04T19:59:50.162Z"
   },
   {
    "duration": 2,
    "start_time": "2022-07-04T20:02:58.088Z"
   },
   {
    "duration": 64,
    "start_time": "2022-07-05T19:33:41.445Z"
   },
   {
    "duration": 43,
    "start_time": "2022-07-05T19:52:30.309Z"
   },
   {
    "duration": 1418,
    "start_time": "2022-07-05T19:52:38.561Z"
   },
   {
    "duration": 856,
    "start_time": "2022-07-05T19:52:39.981Z"
   },
   {
    "duration": 14,
    "start_time": "2022-07-05T19:52:40.839Z"
   },
   {
    "duration": 16,
    "start_time": "2022-07-05T19:52:40.855Z"
   },
   {
    "duration": 6,
    "start_time": "2022-07-05T19:52:40.872Z"
   },
   {
    "duration": 25,
    "start_time": "2022-07-05T19:52:40.879Z"
   },
   {
    "duration": 208,
    "start_time": "2022-07-05T19:52:40.906Z"
   },
   {
    "duration": 115,
    "start_time": "2022-07-05T19:52:41.115Z"
   },
   {
    "duration": 243,
    "start_time": "2022-07-05T19:52:41.232Z"
   },
   {
    "duration": 123,
    "start_time": "2022-07-05T19:52:41.478Z"
   },
   {
    "duration": 173,
    "start_time": "2022-07-05T19:52:41.602Z"
   },
   {
    "duration": 179,
    "start_time": "2022-07-05T19:52:41.776Z"
   },
   {
    "duration": 4,
    "start_time": "2022-07-05T19:52:41.957Z"
   },
   {
    "duration": 20,
    "start_time": "2022-07-05T19:52:41.963Z"
   },
   {
    "duration": 17,
    "start_time": "2022-07-05T19:52:41.984Z"
   },
   {
    "duration": 17,
    "start_time": "2022-07-05T19:52:42.004Z"
   },
   {
    "duration": 7,
    "start_time": "2022-07-05T19:52:42.023Z"
   },
   {
    "duration": 79,
    "start_time": "2022-07-05T19:52:42.032Z"
   },
   {
    "duration": 94,
    "start_time": "2022-07-05T19:52:42.112Z"
   },
   {
    "duration": 94,
    "start_time": "2022-07-05T19:52:42.208Z"
   },
   {
    "duration": 9,
    "start_time": "2022-07-05T19:52:42.307Z"
   },
   {
    "duration": 87,
    "start_time": "2022-07-05T19:52:42.318Z"
   },
   {
    "duration": 4,
    "start_time": "2022-07-05T19:52:42.407Z"
   },
   {
    "duration": 7,
    "start_time": "2022-07-05T19:52:42.413Z"
   },
   {
    "duration": 6,
    "start_time": "2022-07-05T19:52:42.422Z"
   },
   {
    "duration": 19,
    "start_time": "2022-07-05T19:52:42.429Z"
   },
   {
    "duration": 15,
    "start_time": "2022-07-05T19:52:42.450Z"
   },
   {
    "duration": 51,
    "start_time": "2022-07-05T19:52:42.468Z"
   },
   {
    "duration": 86,
    "start_time": "2022-07-05T19:52:42.520Z"
   },
   {
    "duration": 98,
    "start_time": "2022-07-05T19:52:42.607Z"
   },
   {
    "duration": 104,
    "start_time": "2022-07-05T19:52:42.707Z"
   },
   {
    "duration": 17,
    "start_time": "2022-07-05T19:52:42.813Z"
   },
   {
    "duration": 74,
    "start_time": "2022-07-05T19:52:42.832Z"
   },
   {
    "duration": 195,
    "start_time": "2022-07-05T19:52:42.909Z"
   },
   {
    "duration": 5,
    "start_time": "2022-07-05T19:52:43.106Z"
   },
   {
    "duration": 10,
    "start_time": "2022-07-05T19:52:43.112Z"
   },
   {
    "duration": 7,
    "start_time": "2022-07-05T19:52:43.124Z"
   },
   {
    "duration": 6,
    "start_time": "2022-07-05T19:52:43.132Z"
   },
   {
    "duration": 5,
    "start_time": "2022-07-05T19:52:43.140Z"
   },
   {
    "duration": 5,
    "start_time": "2022-07-05T19:52:43.147Z"
   },
   {
    "duration": 6,
    "start_time": "2022-07-05T19:52:43.154Z"
   },
   {
    "duration": 6,
    "start_time": "2022-07-05T19:52:43.162Z"
   },
   {
    "duration": 1525,
    "start_time": "2022-07-05T19:52:43.170Z"
   },
   {
    "duration": 322,
    "start_time": "2022-07-05T19:52:44.697Z"
   },
   {
    "duration": 4,
    "start_time": "2022-07-05T19:52:45.021Z"
   },
   {
    "duration": 14,
    "start_time": "2022-07-05T19:52:45.027Z"
   },
   {
    "duration": 9,
    "start_time": "2022-07-05T19:52:45.043Z"
   },
   {
    "duration": 7,
    "start_time": "2022-07-05T19:52:45.054Z"
   },
   {
    "duration": 1909,
    "start_time": "2022-07-05T19:52:45.063Z"
   },
   {
    "duration": 6,
    "start_time": "2022-07-05T19:52:46.974Z"
   },
   {
    "duration": 1929,
    "start_time": "2022-07-05T19:52:46.982Z"
   },
   {
    "duration": 7,
    "start_time": "2022-07-05T19:52:48.913Z"
   },
   {
    "duration": 6,
    "start_time": "2022-07-05T19:52:58.756Z"
   },
   {
    "duration": 6,
    "start_time": "2022-07-05T19:53:12.098Z"
   },
   {
    "duration": 6,
    "start_time": "2022-07-05T19:53:26.631Z"
   },
   {
    "duration": 7,
    "start_time": "2022-07-05T19:53:34.125Z"
   },
   {
    "duration": 1289,
    "start_time": "2022-07-05T19:54:07.945Z"
   },
   {
    "duration": 338,
    "start_time": "2022-07-05T19:54:09.236Z"
   },
   {
    "duration": 15,
    "start_time": "2022-07-05T19:54:09.576Z"
   },
   {
    "duration": 18,
    "start_time": "2022-07-05T19:54:09.593Z"
   },
   {
    "duration": 6,
    "start_time": "2022-07-05T19:54:09.612Z"
   },
   {
    "duration": 20,
    "start_time": "2022-07-05T19:54:09.620Z"
   },
   {
    "duration": 194,
    "start_time": "2022-07-05T19:54:09.641Z"
   },
   {
    "duration": 114,
    "start_time": "2022-07-05T19:54:09.837Z"
   },
   {
    "duration": 178,
    "start_time": "2022-07-05T19:54:09.953Z"
   },
   {
    "duration": 124,
    "start_time": "2022-07-05T19:54:10.134Z"
   },
   {
    "duration": 181,
    "start_time": "2022-07-05T19:54:10.259Z"
   },
   {
    "duration": 185,
    "start_time": "2022-07-05T19:54:10.442Z"
   },
   {
    "duration": 4,
    "start_time": "2022-07-05T19:54:10.628Z"
   },
   {
    "duration": 16,
    "start_time": "2022-07-05T19:54:10.634Z"
   },
   {
    "duration": 3,
    "start_time": "2022-07-05T19:54:10.652Z"
   },
   {
    "duration": 14,
    "start_time": "2022-07-05T19:54:10.656Z"
   },
   {
    "duration": 33,
    "start_time": "2022-07-05T19:54:10.671Z"
   },
   {
    "duration": 19,
    "start_time": "2022-07-05T19:54:10.706Z"
   },
   {
    "duration": 77,
    "start_time": "2022-07-05T19:54:10.727Z"
   },
   {
    "duration": 100,
    "start_time": "2022-07-05T19:54:10.811Z"
   },
   {
    "duration": 98,
    "start_time": "2022-07-05T19:54:10.914Z"
   },
   {
    "duration": 23,
    "start_time": "2022-07-05T19:54:11.014Z"
   },
   {
    "duration": 6,
    "start_time": "2022-07-05T19:54:11.039Z"
   },
   {
    "duration": 12,
    "start_time": "2022-07-05T19:54:11.046Z"
   },
   {
    "duration": 5,
    "start_time": "2022-07-05T19:54:11.060Z"
   },
   {
    "duration": 23,
    "start_time": "2022-07-05T19:54:11.067Z"
   },
   {
    "duration": 22,
    "start_time": "2022-07-05T19:54:11.091Z"
   },
   {
    "duration": 88,
    "start_time": "2022-07-05T19:54:11.117Z"
   },
   {
    "duration": 97,
    "start_time": "2022-07-05T19:54:11.206Z"
   },
   {
    "duration": 105,
    "start_time": "2022-07-05T19:54:11.305Z"
   },
   {
    "duration": 15,
    "start_time": "2022-07-05T19:54:11.411Z"
   },
   {
    "duration": 18,
    "start_time": "2022-07-05T19:54:11.428Z"
   },
   {
    "duration": 8,
    "start_time": "2022-07-05T19:54:11.505Z"
   },
   {
    "duration": 192,
    "start_time": "2022-07-05T19:54:11.516Z"
   },
   {
    "duration": 16,
    "start_time": "2022-07-05T19:54:11.710Z"
   },
   {
    "duration": 16,
    "start_time": "2022-07-05T19:54:11.728Z"
   },
   {
    "duration": 18,
    "start_time": "2022-07-05T19:54:11.746Z"
   },
   {
    "duration": 12,
    "start_time": "2022-07-05T19:54:11.766Z"
   },
   {
    "duration": 9,
    "start_time": "2022-07-05T19:54:11.780Z"
   },
   {
    "duration": 9,
    "start_time": "2022-07-05T19:54:11.791Z"
   },
   {
    "duration": 5,
    "start_time": "2022-07-05T19:54:11.802Z"
   },
   {
    "duration": 7,
    "start_time": "2022-07-05T19:54:11.809Z"
   },
   {
    "duration": 1459,
    "start_time": "2022-07-05T19:54:11.818Z"
   },
   {
    "duration": 290,
    "start_time": "2022-07-05T19:54:13.278Z"
   },
   {
    "duration": 4,
    "start_time": "2022-07-05T19:54:13.570Z"
   },
   {
    "duration": 8,
    "start_time": "2022-07-05T19:54:13.576Z"
   },
   {
    "duration": 21,
    "start_time": "2022-07-05T19:54:13.585Z"
   },
   {
    "duration": 16,
    "start_time": "2022-07-05T19:54:13.607Z"
   },
   {
    "duration": 1765,
    "start_time": "2022-07-05T19:54:13.624Z"
   },
   {
    "duration": 13,
    "start_time": "2022-07-05T19:54:15.391Z"
   },
   {
    "duration": 1778,
    "start_time": "2022-07-05T19:54:15.406Z"
   },
   {
    "duration": 5,
    "start_time": "2022-07-05T19:54:17.186Z"
   }
  ],
  "kernelspec": {
   "display_name": "Python 3",
   "language": "python",
   "name": "python3"
  },
  "language_info": {
   "codemirror_mode": {
    "name": "ipython",
    "version": 3
   },
   "file_extension": ".py",
   "mimetype": "text/x-python",
   "name": "python",
   "nbconvert_exporter": "python",
   "pygments_lexer": "ipython3",
   "version": "3.8.8"
  },
  "toc": {
   "base_numbering": 1,
   "nav_menu": {},
   "number_sections": true,
   "sideBar": true,
   "skip_h1_title": true,
   "title_cell": "Table of Contents",
   "title_sidebar": "Contents",
   "toc_cell": false,
   "toc_position": {},
   "toc_section_display": true,
   "toc_window_display": false
  }
 },
 "nbformat": 4,
 "nbformat_minor": 2
}
